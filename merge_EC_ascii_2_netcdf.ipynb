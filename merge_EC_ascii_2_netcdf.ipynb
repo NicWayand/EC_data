{
 "cells": [
  {
   "cell_type": "code",
   "execution_count": 1,
   "metadata": {
    "collapsed": false
   },
   "outputs": [],
   "source": [
    "# Import modules\n",
    "#import mpld3\n",
    "%matplotlib inline\n",
    "#mpld3.enable_notebook()\n",
    "import numpy as np\n",
    "import pandas as pd\n",
    "import matplotlib\n",
    "import matplotlib.pyplot as plt\n",
    "from datetime import datetime\n",
    "import xarray as xr\n",
    "from astropy.io import ascii\n",
    "import pytz\n",
    "# OS interaction\n",
    "import sys\n",
    "import os\n",
    "import glob\n",
    "import re\n",
    "import time\n",
    "os.environ['TZ'] = 'GMT'\n",
    "time.tzset()"
   ]
  },
  {
   "cell_type": "code",
   "execution_count": 2,
   "metadata": {
    "collapsed": true
   },
   "outputs": [],
   "source": [
    "# Directories\n",
    "# Path to raw data\n",
    "main_dir   = os.path.normpath(r'/home/nwayand/data_sets/MET/EC')\n",
    "in_dir     = os.path.join(main_dir,'daily')\n",
    "out_file    = os.path.join(main_dir,'netcdf','EC_daily.nc')\n",
    "meta_file  = os.path.join(main_dir,'EC_stations.csv')"
   ]
  },
  {
   "cell_type": "code",
   "execution_count": 3,
   "metadata": {
    "collapsed": false
   },
   "outputs": [],
   "source": [
    "# EC format\n",
    "c_header = 1 # Header lines\n",
    "c_column_line = 0 # line where column names start\n",
    "c_delimiter = ','\n",
    "var_name_dic = {\"maxT\":\"MaximumAirTemp\",\"minT\":\"MinimumAirTemp\",\"meanT\":\"DailyAvgAirTemp\",\n",
    "                \"total_rain_mm\":\"p_rain\",\"total_snow_cm\":\"p_snow\",\n",
    "                \"total_precip_mm\":\"IncrementalPrecipitaitonA\",\n",
    "                \"snow_on_grnd_cm\":\"SnowDepthA\",\"dir_max_gust_deg\":\"dir_max_gust\",\n",
    "                \"speed_max_gust_kmh\":\"speed_max_gust\"}\n",
    "units_all = {'DailyAvgAirTemp':'C',\n",
    "                 'p_rain':'mm',\n",
    "                 'p_snow':'cm',\n",
    "                 'dir_max_gust':'deg',\n",
    "                 'SnowDepthA':'cm',\n",
    "                 'IncrementalPrecipitaitonA':'mm',\n",
    "                 'MinimumAirTemp':'C',\n",
    "                 'MaximumAirTemp':'C',\n",
    "                 'speed_max_gust':'kmh'}"
   ]
  },
  {
   "cell_type": "code",
   "execution_count": 4,
   "metadata": {
    "collapsed": true
   },
   "outputs": [],
   "source": [
    "def dms2dd(degrees, minutes, seconds, direction):\n",
    "    dd = float(degrees) + float(minutes)/60 + float(seconds)/(60*60);\n",
    "    if direction == 'S' or direction == 'W':\n",
    "        dd *= -1\n",
    "    return dd;"
   ]
  },
  {
   "cell_type": "code",
   "execution_count": 5,
   "metadata": {
    "collapsed": true
   },
   "outputs": [],
   "source": [
    "# Get file in info\n",
    "os.chdir(in_dir) # Move to input\n",
    "content = glob.glob('*.csv') # Get list of files\n",
    "num_files = len(content)"
   ]
  },
  {
   "cell_type": "code",
   "execution_count": 6,
   "metadata": {
    "collapsed": false
   },
   "outputs": [],
   "source": [
    "# Read in metadata (all stations)\n",
    "metadata = pd.read_csv(meta_file,index_col='Name')\n",
    "metadata['lat'] = [dms2dd(x.split('_')[0],x.split('_')[1],x.split('_')[2],x.split('_')[3]) for x in metadata['lat']]\n",
    "metadata['long'] = [dms2dd(x.split('_')[0],x.split('_')[1],x.split('_')[2],x.split('_')[3]) for x in metadata['long']]"
   ]
  },
  {
   "cell_type": "code",
   "execution_count": null,
   "metadata": {
    "collapsed": false
   },
   "outputs": [],
   "source": []
  },
  {
   "cell_type": "code",
   "execution_count": null,
   "metadata": {
    "collapsed": false
   },
   "outputs": [],
   "source": []
  },
  {
   "cell_type": "code",
   "execution_count": 7,
   "metadata": {
    "collapsed": true
   },
   "outputs": [],
   "source": [
    "# Initalize stuff\n",
    "c_dict = {}\n",
    "stations_all=[]\n",
    "variables=[]\n",
    "time_index = {}"
   ]
  },
  {
   "cell_type": "code",
   "execution_count": 8,
   "metadata": {
    "collapsed": false
   },
   "outputs": [
    {
     "name": "stdout",
     "output_type": "stream",
     "text": [
      "Processing SUNDREA\n",
      "Processing TINDA\n",
      "Processing EMERALD\n",
      "Processing ROCKY MTN HOUSE (AUT)\n",
      "Processing RAMFALLS\n",
      "Processing BOWVALLEY\n",
      "Processing KANANASKISPOCATERRA\n",
      "Processing NORDEGGCS\n",
      "Processing WILDCATHILLS\n",
      "Processing NAKISKARIDGETOP\n",
      "Processing GOLDENA\n",
      "Processing BANFF\n",
      "Processing YOHO\n",
      "Processing KANANASKIS\n",
      "Processing OHARA\n",
      "Processing KOOTENAYNPWESTGATE\n",
      "Processing GOLDENAIRPORT\n",
      "Processing GLACIERNPROGERSPASS\n"
     ]
    }
   ],
   "source": [
    "# Read in each file\n",
    "for cfile in content:\n",
    "    \n",
    "    # Get current station name\n",
    "    csta_ID = cfile.split('_')[0] # Take the first three letter abbreviation as the name\n",
    "    csta_name = metadata.StationID[metadata.StationID == float(csta_ID)].index.tolist()[0];\n",
    "    print('Processing ' + csta_name)\n",
    "    stations_all.append(csta_name)\n",
    "    \n",
    "    # Import data to pandas dataframe\n",
    "    dat = ascii.read(cfile,header_start=c_column_line,data_start=c_header,\n",
    "                     delimiter=c_delimiter,exclude_names='N/A')\n",
    "    datain = pd.DataFrame(dat.as_array())\n",
    "    \n",
    "    # Remove symbols\n",
    "    try:\n",
    "        datain['day'] = datain['day'].map(lambda x: re.search('[0-9]+',x).group())\n",
    "    except:    \n",
    "        datain['day'] = datain['day']\n",
    "        \n",
    "    # Remove missing\n",
    "    datain.replace('LegendMM',np.NaN,inplace=True)\n",
    "    datain.replace('nan',np.NaN,inplace=True)\n",
    "    datain.replace('-9999',np.NaN,inplace=True)\n",
    "    \n",
    "    # Force to numeric\n",
    "    datain = datain.apply(lambda x: pd.to_numeric(x, errors='coerce'))\n",
    "    \n",
    "    # Fix Time\n",
    "    cdate = []\n",
    "    for cr in datain.index:\n",
    "        try:\n",
    "            cdate.append(datetime(int(datain.ix[cr,'Year']),int(datain.ix[cr,'Month']),int(datain.ix[cr,'day'])))\n",
    "        except:\n",
    "            # It is a bad date, so remove all data\n",
    "            #print datain.ix[cr]\n",
    "            datain.drop(cr,axis=0,inplace=True)\n",
    "\n",
    "\n",
    "    datain['time'] = cdate\n",
    "    datain['time'] = datain['time']\n",
    "    datain.set_index('time',inplace=True)\n",
    "    datain.drop(['day','Month','Year','heat_dd','cool_dd'],axis=1,inplace=True)\n",
    "    \n",
    "\n",
    "    ## Rename funky station names to common MVF names\n",
    "    datain.rename(columns=var_name_dic, inplace=True)\n",
    "    \n",
    "#     # Import header info \n",
    "#     headerinfo = pd.read_csv(cfile,nrows=2,skiprows=1)\n",
    "#     units = headerinfo.loc[0,:].tolist() # Grab first row of dataframe (units)\n",
    "#     units = units[1:] # Remove first value which is the units of the timestamp\n",
    "#     units_dic = dict(zip(datain.columns,units)) # Dictionary of variable:units for this stations\n",
    "#     units_all = merge_two_dicts(units_all, units_dic) # Merge dictoinaries together (units_dic overwrites any units_all)\n",
    "    \n",
    "    # Loop through all variables for this station\n",
    "    c_variables = datain.columns\n",
    "    variables.extend(c_variables.values) # Store all variables for use latter\n",
    "    for c_var in c_variables:\n",
    "        c_dict[(csta_name,c_var)]        =pd.DataFrame(datain[c_var])\n",
    "        c_dict[(csta_name,c_var)].columns=[c_var]\n",
    "        c_dict[(csta_name,c_var)].index  = datain.index\n",
    "        \n",
    "    # Save time index for each station (need to fill in missing variables later)\n",
    "    time_index[csta_name] = datain.index"
   ]
  },
  {
   "cell_type": "code",
   "execution_count": null,
   "metadata": {
    "collapsed": false
   },
   "outputs": [],
   "source": []
  },
  {
   "cell_type": "code",
   "execution_count": 9,
   "metadata": {
    "collapsed": false
   },
   "outputs": [
    {
     "data": {
      "text/plain": [
       "{'DailyAvgAirTemp',\n",
       " 'IncrementalPrecipitaitonA',\n",
       " 'MaximumAirTemp',\n",
       " 'MinimumAirTemp',\n",
       " 'SnowDepthA',\n",
       " 'dir_max_gust',\n",
       " 'p_rain',\n",
       " 'p_snow',\n",
       " 'speed_max_gust'}"
      ]
     },
     "execution_count": 9,
     "metadata": {},
     "output_type": "execute_result"
    }
   ],
   "source": [
    "# Get unique variables from list variables\n",
    "variables_uniq = set(variables)\n",
    "variables_uniq"
   ]
  },
  {
   "cell_type": "code",
   "execution_count": 10,
   "metadata": {
    "collapsed": false
   },
   "outputs": [
    {
     "name": "stdout",
     "output_type": "stream",
     "text": [
      "DailyAvgAirTemp\n",
      "p_snow\n",
      "MaximumAirTemp\n",
      "MinimumAirTemp\n",
      "IncrementalPrecipitaitonA\n",
      "speed_max_gust\n",
      "dir_max_gust\n",
      "SnowDepthA\n",
      "p_rain\n"
     ]
    }
   ],
   "source": [
    "# Extract data for each variable from the dictionary and create a xray.Dataset\n",
    "\n",
    "ds_list = [] # Initalize list of xray Datasets (each a different variable)\n",
    "\n",
    "# For each unique variable in the dictionary\n",
    "for c_var in variables_uniq:\n",
    "    print(c_var)\n",
    "    all_vars={} # Initialize dictionary that only contains one variable for all stations\n",
    "    # For each station\n",
    "    for c_sta in stations_all:\n",
    "        # Test if this varible was measured at this station\n",
    "        if ((c_sta,c_var) in c_dict):\n",
    "            all_vars[c_sta] = c_dict[(c_sta,c_var)]\n",
    "        else: # Variable doesn't exists at this station so pad it with -9999 (needed to merge into one netcdf file)\n",
    "            index_csta = time_index[c_sta]\n",
    "            df_missing = pd.DataFrame(index=index_csta, columns=[c_var])\n",
    "            #df_missing = df_missing.fillna(-9999)\n",
    "            all_vars[c_sta] = df_missing\n",
    "\n",
    "    # Concatenate each variable by stations\n",
    "    c_obs_all = pd.concat(all_vars,axis=0,keys=stations_all)\n",
    "    #c_obs_all = pd.DataFrame(c_obs_all) # not needed\n",
    "    \n",
    "    # Convert to xray and add to list\n",
    "    ds = xr.Dataset.from_dataframe(c_obs_all)\n",
    "    # Add to list and rename variables\n",
    "    ds_list.append(ds.rename({'level_0':'station'}))  "
   ]
  },
  {
   "cell_type": "code",
   "execution_count": 11,
   "metadata": {
    "collapsed": false
   },
   "outputs": [
    {
     "data": {
      "text/plain": [
       "<xarray.Dataset>\n",
       "Dimensions:                    (station: 18, time: 854)\n",
       "Coordinates:\n",
       "  * station                    (station) object 'SUNDREA' 'TINDA' 'EMERALD' ...\n",
       "  * time                       (time) datetime64[ns] 2014-10-01 2014-10-02 ...\n",
       "Data variables:\n",
       "    DailyAvgAirTemp            (station, time) float64 5.9 1.3 3.0 10.2 7.6 ...\n",
       "    p_snow                     (station, time) float64 nan nan nan nan nan ...\n",
       "    MaximumAirTemp             (station, time) float64 15.7 7.4 14.4 19.5 ...\n",
       "    MinimumAirTemp             (station, time) float64 -3.9 -4.9 -8.4 0.8 ...\n",
       "    IncrementalPrecipitaitonA  (station, time) float64 2.0 0.0 0.0 0.7 0.0 ...\n",
       "    speed_max_gust             (station, time) float64 85.0 57.0 nan 35.0 ...\n",
       "    dir_max_gust               (station, time) float64 35.0 32.0 nan 6.0 nan ...\n",
       "    SnowDepthA                 (station, time) float64 nan nan nan nan nan ...\n",
       "    p_rain                     (station, time) float64 nan nan nan nan nan ..."
      ]
     },
     "execution_count": 11,
     "metadata": {},
     "output_type": "execute_result"
    }
   ],
   "source": [
    "# Combine all variable Datasets using xray.update()\n",
    "ds_all = xr.Dataset()\n",
    "[ds_all.update(c_ds) for c_ds in ds_list]\n",
    "ds_all"
   ]
  },
  {
   "cell_type": "code",
   "execution_count": 12,
   "metadata": {
    "collapsed": false
   },
   "outputs": [
    {
     "name": "stdout",
     "output_type": "stream",
     "text": [
      "DailyAvgAirTemp\n",
      "p_snow\n",
      "MaximumAirTemp\n",
      "MinimumAirTemp\n",
      "IncrementalPrecipitaitonA\n",
      "speed_max_gust\n",
      "dir_max_gust\n",
      "SnowDepthA\n",
      "p_rain\n"
     ]
    }
   ],
   "source": [
    "# Add variable attributes (units), and fix variable names (remove spaces)\n",
    "for cvar in ds_all.data_vars:\n",
    "    print cvar\n",
    "    # add units as attributes\n",
    "    ds_all.get(cvar).attrs['unit']   = units_all[cvar]\n",
    "    # Remove spaces in variable names\n",
    "    ds_all.rename({cvar:cvar.replace(\" \",\"\")},inplace=True)"
   ]
  },
  {
   "cell_type": "code",
   "execution_count": 13,
   "metadata": {
    "collapsed": false
   },
   "outputs": [],
   "source": [
    "# Get stations we have from metadata\n",
    "A = metadata.index.tolist()\n",
    "B = ds_all.station.values.tolist()\n",
    "sta_missing = list(set(A) - set(B))\n",
    "metadata.drop(sta_missing,inplace=True)"
   ]
  },
  {
   "cell_type": "code",
   "execution_count": 14,
   "metadata": {
    "collapsed": false
   },
   "outputs": [],
   "source": [
    "# Add meta data for each station\n",
    "ds_all = ds_all.merge({'Elevation': ('station',metadata['elevation'])})\n",
    "ds_all = ds_all.merge({'Lat': ('station',metadata['lat'])})\n",
    "ds_all = ds_all.merge({'Lon': ('station',metadata['long'])})"
   ]
  },
  {
   "cell_type": "code",
   "execution_count": 15,
   "metadata": {
    "collapsed": false
   },
   "outputs": [
    {
     "data": {
      "text/plain": [
       "<xarray.Dataset>\n",
       "Dimensions:                    (station: 18, time: 854)\n",
       "Coordinates:\n",
       "  * station                    (station) object 'SUNDREA' 'TINDA' 'EMERALD' ...\n",
       "  * time                       (time) datetime64[ns] 2014-10-01 2014-10-02 ...\n",
       "    Elevation                  (station) float64 2.025e+03 1.28e+03 ...\n",
       "    Lat                        (station) float64 51.36 51.43 52.08 51.65 ...\n",
       "    Lon                        (station) float64 -116.3 -116.5 -115.8 -115.4 ...\n",
       "Data variables:\n",
       "    DailyAvgAirTemp            (station, time) float64 5.9 1.3 3.0 10.2 7.6 ...\n",
       "    p_snow                     (station, time) float64 nan nan nan nan nan ...\n",
       "    MaximumAirTemp             (station, time) float64 15.7 7.4 14.4 19.5 ...\n",
       "    MinimumAirTemp             (station, time) float64 -3.9 -4.9 -8.4 0.8 ...\n",
       "    IncrementalPrecipitaitonA  (station, time) float64 2.0 0.0 0.0 0.7 0.0 ...\n",
       "    speed_max_gust             (station, time) float64 85.0 57.0 nan 35.0 ...\n",
       "    dir_max_gust               (station, time) float64 35.0 32.0 nan 6.0 nan ...\n",
       "    SnowDepthA                 (station, time) float64 nan nan nan nan nan ...\n",
       "    p_rain                     (station, time) float64 nan nan nan nan nan ..."
      ]
     },
     "execution_count": 15,
     "metadata": {},
     "output_type": "execute_result"
    }
   ],
   "source": [
    "# Make meta data coordiates from variables\n",
    "ds_all.set_coords(['Elevation','Lat','Lon'], inplace=True)"
   ]
  },
  {
   "cell_type": "code",
   "execution_count": null,
   "metadata": {
    "collapsed": false
   },
   "outputs": [],
   "source": [
    "# Convert units to standard\n"
   ]
  },
  {
   "cell_type": "code",
   "execution_count": 16,
   "metadata": {
    "collapsed": false
   },
   "outputs": [],
   "source": [
    "# Export to netcdf\n",
    "ds_all.to_netcdf(out_file,format='netcdf4') "
   ]
  },
  {
   "cell_type": "code",
   "execution_count": 21,
   "metadata": {
    "collapsed": false
   },
   "outputs": [
    {
     "data": {
      "text/plain": [
       "<matplotlib.text.Text at 0x7f35f5e40510>"
      ]
     },
     "execution_count": 21,
     "metadata": {},
     "output_type": "execute_result"
    },
    {
     "data": {
      "image/png": "[encoded data removed]",
      "text/plain": [
       "<matplotlib.figure.Figure at 0x7f35f5c3cf50>"
      ]
     },
     "metadata": {},
     "output_type": "display_data"
    }
   ],
   "source": [
    "import matplotlib.pyplot as plt\n",
    "cvar = 'SnowDepthA'\n",
    "plt.plot(ds_all.time.isel(time=np.arange(0,100)),ds_all[cvar].T.isel(time=np.arange(0,100)))\n",
    "plt.ylabel(ds_all[cvar].unit)"
   ]
  },
  {
   "cell_type": "code",
   "execution_count": null,
   "metadata": {
    "collapsed": true
   },
   "outputs": [],
   "source": []
  }
 ],
 "metadata": {
  "anaconda-cloud": {},
  "kernelspec": {
   "display_name": "Python [conda root]",
   "language": "python",
   "name": "conda-root-py"
  },
  "language_info": {
   "codemirror_mode": {
    "name": "ipython",
    "version": 2
   },
   "file_extension": ".py",
   "mimetype": "text/x-python",
   "name": "python",
   "nbconvert_exporter": "python",
   "pygments_lexer": "ipython2",
   "version": "2.7.12"
  }
 },
 "nbformat": 4,
 "nbformat_minor": 2
}
